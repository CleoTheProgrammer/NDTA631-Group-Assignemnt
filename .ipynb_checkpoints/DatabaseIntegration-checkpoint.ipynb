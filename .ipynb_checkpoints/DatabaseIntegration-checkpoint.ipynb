{
 "cells": [
  {
   "cell_type": "markdown",
   "id": "abaeded3-4138-488e-9e43-a0df044a533f",
   "metadata": {},
   "source": [
    "4.DATA INTEGRATION"
   ]
  },
  {
   "cell_type": "code",
   "execution_count": 1,
   "id": "5f93fc0a-e6d9-4d32-9db4-199726c7a9bb",
   "metadata": {},
   "outputs": [],
   "source": [
    "import sqlite3\n",
    "import csv"
   ]
  },
  {
   "cell_type": "code",
   "execution_count": 2,
   "id": "e2ddd8c6-6f5a-48e3-b95f-8212dc04b919",
   "metadata": {},
   "outputs": [],
   "source": [
    "conn = sqlite3.connect(\"GCIDatabase.db\")\n",
    "cursor= conn.cursor()"
   ]
  },
  {
   "cell_type": "code",
   "execution_count": 3,
   "id": "9ce81a3d-7fcf-4dd2-83d9-ecfbcf8a1742",
   "metadata": {},
   "outputs": [],
   "source": [
    "#first table \n",
    "cursor.execute('''\n",
    "CREATE TABLE IF NOT EXISTS gci_Cybersecurity (\n",
    "    FREG TEXT,\n",
    "    FREG_LABEL TEXT,\n",
    "    REF_AREA TEXT,\n",
    "    REF_AREA_LABEL TEXT,\n",
    "    INDICATOR TEXT,\n",
    "    INDICATOR_LABEL TEXT,\n",
    "    UNIT_MEASURE  TEXT,\n",
    "    UNIT_MEASURE_LABEL TEXT,\n",
    "    AGG_METHOD TEXT,\n",
    "    AGG_METHOD_LABEL TEXT,\n",
    "    DATABASE_ID TEXT,\n",
    "    DATABASE_ID_LABEL TEXT,\n",
    "    UNIT_MULT INTEGER,\n",
    "    UNIT_MULT_LABEL TEXT,\n",
    "    OBS_STATUS TEXT,\n",
    "    OBS_STATUS_LABEL TEXT,\n",
    "    OBS_CONF TEXT,\n",
    "    OBS_CONF_LABEL TEXT,\n",
    "    \"2020\" INTEGER,\n",
    "    \"2024\" INTEGER \n",
    ")\n",
    "''')\n",
    "conn.commit()"
   ]
  },
  {
   "cell_type": "code",
   "execution_count": 4,
   "id": "6bc7111c-b87b-4a6c-8c8a-c17704dabe3b",
   "metadata": {},
   "outputs": [],
   "source": [
    "#second table\n",
    "cursor.execute('''\n",
    "CREATE TABLE IF NOT EXISTS gci_ICT (\n",
    "    FREG TEXT,\n",
    "    FREG_LABEL TEXT,\n",
    "    REF_AREA TEXT,\n",
    "    REF_AREA_LABEL TEXT,\n",
    "    INDICATOR TEXT,\n",
    "    INDICATOR_LABEL TEXT,\n",
    "    SEX TEXT,\n",
    "    SEX_LABEL TEXT,\n",
    "    AGE TEXT,\n",
    "    AGE_LABEL TEXT,\n",
    "    URBANISATION TEXT,\n",
    "    URBANISATION_LABEL TEXT,\n",
    "    UNIT_MEASURE  TEXT,\n",
    "    UNIT_MEASURE_LABEL TEXT,\n",
    "    COMP_BREAKDOWN_1 TEXT,\n",
    "    COMP_BREAKDOWN_1_LABEL TEXT,\n",
    "    AGG_METHOD TEXT,\n",
    "    AGG_METHOD_LABEL TEXT,\n",
    "    DATABASE_ID TEXT,\n",
    "    DATABASE_ID_LABEL TEXT,\n",
    "    UNIT_MULT INTEGER,\n",
    "    UNIT_MULT_LABEL TEXT,\n",
    "    OBS_STATUS TEXT,\n",
    "    OBS_STATUS_LABEL TEXT,\n",
    "    OBS_CONF TEXT,\n",
    "    OBS_CONF_LABEL TEXT,\n",
    "    \"2000\" INTEGER,\n",
    "     \"2001\" INTEGER,\n",
    "    \"2002\" INTEGER,\n",
    "    \"2003\" INTEGER,\n",
    "    \"2004\" INTEGER,\n",
    "    \"2005\" INTEGER,\n",
    "    \"2006\" INTEGER,\n",
    "    \"2007\" INTEGER,\n",
    "    \"2008\" INTEGER,\n",
    "    \"2009\" INTEGER,\n",
    "    \"2010\" INTEGER,\n",
    "    \"2011\" INTEGER,\n",
    "    \"2012\" INTEGER,\n",
    "    \"2013\" INTEGER,\n",
    "    \"2014\" INTEGER,\n",
    "    \"2015\" INTEGER,\n",
    "    \"2016\" INTEGER,\n",
    "    \"2017\" INTEGER,\n",
    "    \"2018\" INTEGER,\n",
    "    \"2019\" INTEGER,\n",
    "    \"2020\" INTEGER,\n",
    "    \"2021\" INTEGER,\n",
    "    \"2022\" INTEGER,\n",
    "    \"2023\" INTEGER,\n",
    "    \"2024\" INTEGER \n",
    ")\n",
    "''')\n",
    "conn.commit()"
   ]
  },
  {
   "cell_type": "code",
   "execution_count": 5,
   "id": "c3282333-960b-47d5-854f-4c02bfc0e0a2",
   "metadata": {},
   "outputs": [],
   "source": [
    "#build database\n",
    "with open('gci_Cybersecurity.csv', 'r') as file:\n",
    "    csv_reader = csv.reader(file)\n",
    "    next(csv_reader)\n",
    "\n",
    "    for row in csv_reader:\n",
    "        cursor.execute ('''INSERT INTO gci_Cybersecurity (FREG, FREG_LABEL, REF_AREA, REF_AREA_LABEL, INDICATOR, INDICATOR_LABEL, UNIT_MEASURE, UNIT_MEASURE_LABEL, AGG_METHOD, AGG_METHOD_LABEL, DATABASE_ID, DATABASE_ID_LABEL, UNIT_MULT, UNIT_MULT_LABEL, OBS_STATUS, OBS_STATUS_LABEL, OBS_CONF, OBS_CONF_LABEL, \"2020\", \"2024\")\n",
    "    VALUES (?, ?, ?, ?, ?, ?, ?, ?, ?, ?, ?, ?, ?, ?, ?, ?, ?, ?, ?, ?)''', row)\n",
    "\n",
    "conn.commit()"
   ]
  },
  {
   "cell_type": "code",
   "execution_count": 6,
   "id": "02bcc518-c36d-41df-8658-cb053d6f447f",
   "metadata": {},
   "outputs": [],
   "source": [
    "#build database\n",
    "with open('gci_ICT.csv', 'r') as file:\n",
    "    csv_reader = csv.reader(file)\n",
    "    next(csv_reader)\n",
    "\n",
    "    for row in csv_reader:\n",
    "        cursor.execute ('''INSERT INTO gci_ICT (FREG, FREG_LABEL, REF_AREA, REF_AREA_LABEL, INDICATOR, INDICATOR_LABEL, SEX,\n",
    "    SEX_LABEL, AGE, AGE_LABEL, URBANISATION,URBANISATION_LABEL, COMP_BREAKDOWN_1,COMP_BREAKDOWN_1_LABEL,UNIT_MEASURE, UNIT_MEASURE_LABEL, AGG_METHOD, AGG_METHOD_LABEL, DATABASE_ID, DATABASE_ID_LABEL, UNIT_MULT, UNIT_MULT_LABEL, OBS_STATUS, OBS_STATUS_LABEL, OBS_CONF, OBS_CONF_LABEL,\n",
    "    \"2000\", \"2001\", \"2002\", \"2003\", \"2004\", \"2005\", \"2006\", \"2007\", \"2008\", \"2009\", \"2010\", \"2011\", \"2012\", \"2013\", \"2014\", \"2015\", \"2016\", \"2017\", \"2018\", \"2019\", \"2020\", \"2021\", \"2022\", \"2023\", \"2024\")\n",
    "    VALUES (?, ?, ?, ?, ?, ?, ?, ?, ?, ?, ?, ?, ?, ?, ?, ?, ?, ?, ?, ?, ?,?,?,?,?,?,?,?,?,?,?,?,?,?,?,?,?,?,?,?,?,?,?,?,?,?,?,?,?,?,?)''', row)\n",
    "\n",
    "conn.commit()"
   ]
  },
  {
   "cell_type": "code",
   "execution_count": 7,
   "id": "b9a0475c-a834-47a8-96e3-be2f3910d968",
   "metadata": {},
   "outputs": [
    {
     "name": "stdout",
     "output_type": "stream",
     "text": [
      "('FREQ', 'FREQ_LABEL', 'REF_AREA', 'REF_AREA_LABEL', 'INDICATOR', 'INDICATOR_LABEL', 'UNIT_MEASURE', 'UNIT_MEASURE_LABEL', 'AGG_METHOD', 'AGG_METHOD_LABEL', 'DATABASE_ID', 'DATABASE_ID_LABEL', 'UNIT_MULT', 'UNIT_MULT_LABEL', 'OBS_STATUS', 'OBS_STATUS_LABEL', 'OBS_CONF', 'OBS_CONF_LABEL', 2020, 2024)\n",
      "('A', 'Annual', 'AFG', 'Afghanistan', 'ITU_GCI_CDS_CYB_PROF_TRAIN', 'Training for Cybersecurity Professionals - CDS2 (ITU GCI)', '0_TO_1', '0-1 scale', 'MEAN', 'Mean', 'ITU_GCI', 'Global Cybersecurity Index', 0, 'Units', 'A', 'Normal value', 'PU', 'Public', 0, 1)\n",
      "('A', 'Annual', 'AFG', 'Afghanistan', 'ITU_GCI_CDS_GOV_ACAD', 'Educational programs or academic curricula in cybersecurity - CDS3 (ITU GCI)', '0_TO_1', '0-1 scale', 'MEAN', 'Mean', 'ITU_GCI', 'Global Cybersecurity Index', 0, 'Units', 'A', 'Normal value', 'PU', 'Public', 0, 0.5016129032258065)\n",
      "('A', 'Annual', 'AFG', 'Afghanistan', 'ITU_GCI_CDS_GOV_MCNSM', 'Government Incentive Mechanisms - CDS6 (ITU GCI)', '0_TO_1', '0-1 scale', 'MEAN', 'Mean', 'ITU_GCI', 'Global Cybersecurity Index', 0, 'Units', 'A', 'Normal value', 'PU', 'Public', 0, 1)\n",
      "('A', 'Annual', 'AFG', 'Afghanistan', 'ITU_GCI_CDS_NAT_CYB_IND', 'National cybersecurity industry - CDS5 (ITU GCI)', '0_TO_1', '0-1 scale', 'MEAN', 'Mean', 'ITU_GCI', 'Global Cybersecurity Index', 0, 'Units', 'A', 'Normal value', 'PU', 'Public', 0, 1)\n",
      "('A', 'Annual', 'AFG', 'Afghanistan', 'ITU_GCI_CDS_PUB_CYB_AWE', 'Public cybersecurity awareness campaigns - CDS1 (ITU GCI)', '0_TO_1', '0-1 scale', 'MEAN', 'Mean', 'ITU_GCI', 'Global Cybersecurity Index', 0, 'Units', 'A', 'Normal value', 'PU', 'Public', 0, 0.0924193548387097)\n",
      "('A', 'Annual', 'AFG', 'Afghanistan', 'ITU_GCI_CDS_RND_PROG', 'Research and development programs on cybersecurity -CDS4 (ITU GCI)', '0_TO_1', '0-1 scale', 'MEAN', 'Mean', 'ITU_GCI', 'Global Cybersecurity Index', 0, 'Units', 'A', 'Normal value', 'PU', 'Public', 0, 1)\n"
     ]
    }
   ],
   "source": [
    "#Query database table 1\n",
    "cursor.execute('SELECT * FROM gci_Cybersecurity LIMIT 7')\n",
    "rows1 = cursor.fetchall()\n",
    "for row in rows1:\n",
    "    print(row)"
   ]
  },
  {
   "cell_type": "code",
   "execution_count": 8,
   "id": "2e46736e-8085-4bae-af05-0487de86f424",
   "metadata": {},
   "outputs": [
    {
     "name": "stdout",
     "output_type": "stream",
     "text": [
      "('FREQ', 'FREQ_LABEL', 'REF_AREA', 'REF_AREA_LABEL', 'INDICATOR', 'INDICATOR_LABEL', 'SEX', 'SEX_LABEL', 'AGE', 'AGE_LABEL', 'URBANISATION', 'URBANISATION_LABEL', 'COMP_BREAKDOWN_1', 'COMP_BREAKDOWN_1_LABEL', 'UNIT_MEASURE', 'UNIT_MEASURE_LABEL', 'AGG_METHOD', 'AGG_METHOD_LABEL', 'DATABASE_ID', 'DATABASE_ID_LABEL', 'UNIT_MULT', 'UNIT_MULT_LABEL', 'OBS_STATUS', 'OBS_STATUS_LABEL', 'OBS_CONF', 'OBS_CONF_LABEL', 2000, 2001, 2002, 2003, 2004, 2005, 2006, 2007, 2008, 2009, 2010, 2011, 2012, 2013, 2014, 2015, 2016, 2017, 2018, 2019, 2020, 2021, 2022, 2023, 2024)\n",
      "('A', 'Annual', 'ABW', 'Aruba', 'ITU_DH_FIX_BR_SUB_PER_100', 'Fixed-broadband subscriptions per 100 inhabitants (ITU)', '_T', 'Total', '_T', 'All age ranges or no breakdown by age', '_T', 'Total', '_Z', 'Not Applicable', 'SB_10P2_HB', 'Subscriptions per 100 inhabitants', 'MEAN', 'Mean', 'ITU_DH', 'ICT Indicators Database', 0, 'Units', 'A', 'Normal value', 'PU', 'Public', '', '', '', 1.51555, 7.46999, 13.0256, 14.627, 16.5612, 18.8089, 18.9851, 19.1951, '', '', 18.7211, 18.5735, 18.237, '', '', '', 17.7444, 17.6909, 17.6649, 17.4862, '', '')\n",
      "('A', 'Annual', 'ABW', 'Aruba', 'ITU_DH_FIX_SUB_PER_100', 'Fixed-telephone subscriptions per 100 inhabitants (ITU)', '_T', 'Total', '_T', 'All age ranges or no breakdown by age', '_T', 'Total', '_Z', 'Not Applicable', 'SB_10P2_HB', 'Subscriptions per 100 inhabitants', 'MEAN', 'Mean', 'ITU_DH', 'ICT Indicators Database', 0, 'Units', 'A', 'Normal value', 'PU', 'Public', 42.9243, 41.1184, 40.6352, 40.5048, 40.7701, 40.6017, 40.5181, 39.9733, 39.3242, 37.0613, 35.0001, '', 35.3763, 34.127, 33.858, 33.5944, '', '', '', 32.6871, 32.5885, 32.5406, 32.0545, '', '')\n",
      "('A', 'Annual', 'ABW', 'Aruba', 'ITU_DH_FIX_TEL_OR_MOB', 'Percentage of households with fixed-line telephone or mobile (ITU)', '_T', 'Total', '_T', 'All age ranges or no breakdown by age', '_T', 'Total', '_Z', 'Not Applicable', 'PT_HH', 'Percentage of households', 'MEAN', 'Mean', 'ITU_DH', 'ICT Indicators Database', 0, 'Units', 'A', 'Normal value', 'PU', 'Public', '', '', '', '', '', '', '', '', '', '', 55.7827, '', '', '', '', '', '', '', '', 0, '', '', '', '', '')\n",
      "('A', 'Annual', 'ABW', 'Aruba', 'ITU_DH_HH_COMP', 'Percentage of households with a computer (ITU)', '_T', 'Total', '_T', 'All age ranges or no breakdown by age', '_T', 'Total', '_Z', 'Not Applicable', 'PT_HH', 'Percentage of households', 'MEAN', 'Mean', 'ITU_DH', 'ICT Indicators Database', 0, 'Units', 'A', 'Normal value', 'PU', 'Public', '', '', '', '', '', '', 45, 48.9, 53, 57.6, 62.5, 67.8, 73.06, 73.1, 73.1, 76.56, '', 76.56, '', 0, '', '', '', '', '')\n"
     ]
    }
   ],
   "source": [
    "#Query database table 2\n",
    "cursor.execute('SELECT * FROM gci_ICT LIMIT 5')\n",
    "rows2 = cursor.fetchall()\n",
    "for row in rows2:\n",
    "    print(row)"
   ]
  },
  {
   "cell_type": "code",
   "execution_count": 9,
   "id": "027a14c0-95fc-4dab-8418-0d5f765ee419",
   "metadata": {},
   "outputs": [],
   "source": [
    "#Update gci_cybersecurity\n",
    "cursor.execute('''\n",
    "    UPDATE gci_Cybersecurity\n",
    "    SET \"2024\" = \"1\"\n",
    "    WHERE \"2024\" = \"0\"\n",
    "''')\n",
    "\n",
    "conn.commit()\n",
    "\n",
    "#update gci_ICT\n",
    "cursor.execute('''\n",
    "    UPDATE gci_ICT\n",
    "    SET \"2019\" = \"0\"\n",
    "    WHERE \"2019\" = \"\"\n",
    "''')\n",
    "\n",
    "conn.commit()"
   ]
  },
  {
   "cell_type": "code",
   "execution_count": 10,
   "id": "566da8ff-6882-4a12-8d24-df627a4af84c",
   "metadata": {},
   "outputs": [],
   "source": [
    "#Delete gci_Cybersecurity\n",
    "cursor.execute(\"DELETE FROM gci_cybersecurity WHERE INDICATOR_LABEL='Cybersecurity metrics - OS3 (ITU GCI)'\")\n",
    "conn.commit()\n",
    "\n",
    "#Delete gci_ICT\n",
    "cursor.execute(\"DELETE FROM gci_ICT WHERE INDICATOR='ITU_DH_HH_TV'\")\n",
    "conn.commit()"
   ]
  },
  {
   "cell_type": "code",
   "execution_count": 11,
   "id": "7c0fb1a5-1e9b-409c-9b39-907e108d6512",
   "metadata": {},
   "outputs": [
    {
     "name": "stdout",
     "output_type": "stream",
     "text": [
      "      FREG  FREG_LABEL  REF_AREA  REF_AREA_LABEL                   INDICATOR  \\\n",
      "0     FREQ  FREQ_LABEL  REF_AREA  REF_AREA_LABEL                   INDICATOR   \n",
      "1        A      Annual       AFG     Afghanistan  ITU_GCI_CDS_CYB_PROF_TRAIN   \n",
      "2        A      Annual       AFG     Afghanistan        ITU_GCI_CDS_GOV_ACAD   \n",
      "3        A      Annual       AFG     Afghanistan       ITU_GCI_CDS_GOV_MCNSM   \n",
      "4        A      Annual       AFG     Afghanistan     ITU_GCI_CDS_NAT_CYB_IND   \n",
      "...    ...         ...       ...             ...                         ...   \n",
      "9696     A      Annual       ZWE        Zimbabwe      ITU_GCI_TECH_CHLD_PROT   \n",
      "9697     A      Annual       ZWE        Zimbabwe        ITU_GCI_TECH_NAT_CCC   \n",
      "9698     A      Annual       ZWE        Zimbabwe      ITU_GCI_TECH_NTNL_FRMW   \n",
      "9699     A      Annual       ZWE        Zimbabwe          ITU_GCI_TECH_SCORE   \n",
      "9700     A      Annual       ZWE        Zimbabwe       ITU_GCI_TECH_SECT_CCC   \n",
      "\n",
      "                                        INDICATOR_LABEL  UNIT_MEASURE  \\\n",
      "0                                       INDICATOR_LABEL  UNIT_MEASURE   \n",
      "1     Training for Cybersecurity Professionals - CDS...        0_TO_1   \n",
      "2     Educational programs or academic curricula in ...        0_TO_1   \n",
      "3      Government Incentive Mechanisms - CDS6 (ITU GCI)        0_TO_1   \n",
      "4      National cybersecurity industry - CDS5 (ITU GCI)        0_TO_1   \n",
      "...                                                 ...           ...   \n",
      "9696            Child Online Protection - TS4 (ITU GCI)        0_TO_1   \n",
      "9697          National CERT/CIRT/ CSIRT - TS1 (ITU GCI)        0_TO_1   \n",
      "9698  National framework for implementation of cyber...        0_TO_1   \n",
      "9699                     Technical Score - TS (ITU GCI)       0_TO_20   \n",
      "9700         Sectorial CERT/CIRT/ CSIRT - TS2 (ITU GCI)        0_TO_1   \n",
      "\n",
      "      UNIT_MEASURE_LABEL  AGG_METHOD  AGG_METHOD_LABEL  DATABASE_ID  \\\n",
      "0     UNIT_MEASURE_LABEL  AGG_METHOD  AGG_METHOD_LABEL  DATABASE_ID   \n",
      "1              0-1 scale        MEAN              Mean      ITU_GCI   \n",
      "2              0-1 scale        MEAN              Mean      ITU_GCI   \n",
      "3              0-1 scale        MEAN              Mean      ITU_GCI   \n",
      "4              0-1 scale        MEAN              Mean      ITU_GCI   \n",
      "...                  ...         ...               ...          ...   \n",
      "9696           0-1 scale        MEAN              Mean      ITU_GCI   \n",
      "9697           0-1 scale        MEAN              Mean      ITU_GCI   \n",
      "9698           0-1 scale        MEAN              Mean      ITU_GCI   \n",
      "9699          0-20 scale        MEAN              Mean      ITU_GCI   \n",
      "9700           0-1 scale        MEAN              Mean      ITU_GCI   \n",
      "\n",
      "               DATABASE_ID_LABEL  UNIT_MULT  UNIT_MULT_LABEL  OBS_STATUS  \\\n",
      "0              DATABASE_ID_LABEL  UNIT_MULT  UNIT_MULT_LABEL  OBS_STATUS   \n",
      "1     Global Cybersecurity Index          0            Units           A   \n",
      "2     Global Cybersecurity Index          0            Units           A   \n",
      "3     Global Cybersecurity Index          0            Units           A   \n",
      "4     Global Cybersecurity Index          0            Units           A   \n",
      "...                          ...        ...              ...         ...   \n",
      "9696  Global Cybersecurity Index          0            Units           A   \n",
      "9697  Global Cybersecurity Index          0            Units           A   \n",
      "9698  Global Cybersecurity Index          0            Units           A   \n",
      "9699  Global Cybersecurity Index          0            Units           A   \n",
      "9700  Global Cybersecurity Index          0            Units           A   \n",
      "\n",
      "      OBS_STATUS_LABEL  OBS_CONF  OBS_CONF_LABEL    2020      2024  \n",
      "0     OBS_STATUS_LABEL  OBS_CONF  OBS_CONF_LABEL  2020.0      2024  \n",
      "1         Normal value        PU          Public     0.0         1  \n",
      "2         Normal value        PU          Public     0.0  0.501613  \n",
      "3         Normal value        PU          Public     0.0         1  \n",
      "4         Normal value        PU          Public     0.0         1  \n",
      "...                ...       ...             ...     ...       ...  \n",
      "9696      Normal value        PU          Public     0.0            \n",
      "9697      Normal value        PU          Public     0.0  0.158621  \n",
      "9698      Normal value        PU          Public     0.0         1  \n",
      "9699      Normal value        PU          Public     0.0  1.391486  \n",
      "9700      Normal value        PU          Public     0.0         1  \n",
      "\n",
      "[9701 rows x 20 columns]\n"
     ]
    }
   ],
   "source": [
    "import pandas as pd\n",
    "df1 = pd.read_sql_query('SELECT * FROM gci_Cybersecurity', conn)\n",
    "print(df1)\n"
   ]
  },
  {
   "cell_type": "code",
   "execution_count": null,
   "id": "09efc01a-bf12-4bad-987a-b4b9a584412c",
   "metadata": {},
   "outputs": [
    {
     "name": "stdout",
     "output_type": "stream",
     "text": [
      "       FREG  FREG_LABEL  REF_AREA  REF_AREA_LABEL                  INDICATOR  \\\n",
      "0      FREQ  FREQ_LABEL  REF_AREA  REF_AREA_LABEL                  INDICATOR   \n",
      "1         A      Annual       ABW           Aruba  ITU_DH_FIX_BR_SUB_PER_100   \n",
      "2         A      Annual       ABW           Aruba     ITU_DH_FIX_SUB_PER_100   \n",
      "3         A      Annual       ABW           Aruba      ITU_DH_FIX_TEL_OR_MOB   \n",
      "4         A      Annual       ABW           Aruba             ITU_DH_HH_COMP   \n",
      "...     ...         ...       ...             ...                        ...   \n",
      "25470     A      Annual       ZWE        Zimbabwe           ITU_DH_PRI_LU_VD   \n",
      "25471     A      Annual       ZWE        Zimbabwe           ITU_DH_PRI_LU_VD   \n",
      "25472     A      Annual       ZWE        Zimbabwe           ITU_DH_PRI_LU_VD   \n",
      "25473     A      Annual       ZWE        Zimbabwe         ITU_DH_TRAF_FIX_BB   \n",
      "25474     A      Annual       ZWE        Zimbabwe         ITU_DH_TRAF_MOB_BB   \n",
      "\n",
      "                                         INDICATOR_LABEL  SEX  SEX_LABEL  AGE  \\\n",
      "0                                        INDICATOR_LABEL  SEX  SEX_LABEL  AGE   \n",
      "1      Fixed-broadband subscriptions per 100 inhabita...   _T      Total   _T   \n",
      "2      Fixed-telephone subscriptions per 100 inhabita...   _T      Total   _T   \n",
      "3      Percentage of households with fixed-line telep...   _T      Total   _T   \n",
      "4         Percentage of households with a computer (ITU)   _T      Total   _T   \n",
      "...                                                  ...  ...        ...  ...   \n",
      "25470   Price of a low usage voice and data bundle (ITU)   _T      Total   _T   \n",
      "25471   Price of a low usage voice and data bundle (ITU)   _T      Total   _T   \n",
      "25472   Price of a low usage voice and data bundle (ITU)   _T      Total   _T   \n",
      "25473                   Fixed-broadband internet traffic   _T      Total   _T   \n",
      "25474  Mobile-broadband internet traffic within the c...   _T      Total   _T   \n",
      "\n",
      "                                   AGE_LABEL  ...     2015      2016  \\\n",
      "0                                  AGE_LABEL  ...     2015      2016   \n",
      "1      All age ranges or no breakdown by age  ...   18.237             \n",
      "2      All age ranges or no breakdown by age  ...  33.5944             \n",
      "3      All age ranges or no breakdown by age  ...                      \n",
      "4      All age ranges or no breakdown by age  ...    76.56             \n",
      "...                                      ...  ...      ...       ...   \n",
      "25470  All age ranges or no breakdown by age  ...                      \n",
      "25471  All age ranges or no breakdown by age  ...                      \n",
      "25472  All age ranges or no breakdown by age  ...                      \n",
      "25473  All age ranges or no breakdown by age  ...                      \n",
      "25474  All age ranges or no breakdown by age  ...           0.008094   \n",
      "\n",
      "           2017      2018         2019      2020      2021      2022  \\\n",
      "0          2017      2018  2019.000000      2020      2021      2022   \n",
      "1                            17.744400   17.6909   17.6649   17.4862   \n",
      "2                            32.687100   32.5885   32.5406   32.0545   \n",
      "3                             0.000000                                 \n",
      "4         76.56               0.000000                                 \n",
      "...         ...       ...          ...       ...       ...       ...   \n",
      "25470                         0.000000              59.618    19.944   \n",
      "25471               16.93     0.000000             12.5835   9.52676   \n",
      "25472               25.26     0.000000      8.92     11.43   6.09597   \n",
      "25473            0.127801     0.164863  0.170264  0.213469  0.230891   \n",
      "25474  0.015361  0.027278     0.035733   0.04878  0.096194  0.113858   \n",
      "\n",
      "           2023      2024  \n",
      "0          2023      2024  \n",
      "1                          \n",
      "2                          \n",
      "3                          \n",
      "4                          \n",
      "...         ...       ...  \n",
      "25470     65.38      0.33  \n",
      "25471      2.48            \n",
      "25472      5.34     56.03  \n",
      "25473  0.621691      1.01  \n",
      "25474   0.17121  0.299766  \n",
      "\n",
      "[25475 rows x 51 columns]\n"
     ]
    }
   ],
   "source": [
    "df2 = pd.read_sql_query('SELECT * FROM gci_ICT', conn)\n",
    "print(df2)"
   ]
  },
  {
   "cell_type": "markdown",
   "id": "a7f27b1d-b215-4bfb-993f-2f9407eb2983",
   "metadata": {},
   "source": [
    "Conclusion of the data Integration. These datasets are kept separate because they measure different aspects (ICT adoption and Cybersecurity capacity) and have different time resolution (ICT = 2000-2004, Cybersecurity = 2020 & 2024 only). However, a limited comparison for 2020 and 2024 can reveal a correlation between the 2 datasets."
   ]
  },
  {
   "cell_type": "code",
   "execution_count": null,
   "id": "cd3733e9-490d-400a-9d64-dfccc92a433a",
   "metadata": {},
   "outputs": [],
   "source": []
  },
  {
   "cell_type": "code",
   "execution_count": null,
   "id": "2f462838-d50a-4ff6-b84b-8d19769bc19b",
   "metadata": {},
   "outputs": [],
   "source": []
  }
 ],
 "metadata": {
  "kernelspec": {
   "display_name": "Python 3 (ipykernel)",
   "language": "python",
   "name": "python3"
  },
  "language_info": {
   "codemirror_mode": {
    "name": "ipython",
    "version": 3
   },
   "file_extension": ".py",
   "mimetype": "text/x-python",
   "name": "python",
   "nbconvert_exporter": "python",
   "pygments_lexer": "ipython3",
   "version": "3.13.5"
  }
 },
 "nbformat": 4,
 "nbformat_minor": 5
}
