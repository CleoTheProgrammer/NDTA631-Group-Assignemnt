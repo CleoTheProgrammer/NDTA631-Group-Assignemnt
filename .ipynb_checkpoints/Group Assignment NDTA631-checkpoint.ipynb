{
 "cells": [
  {
   "cell_type": "markdown",
   "id": "e83ec307-1693-48df-95ce-54a72768e5a5",
   "metadata": {},
   "source": [
    "### Group Assignment\n",
    "#### NDTA631 \n",
    "\n",
    "#### Group Members:\n",
    "##### Ikho Nogemane 202301434\n",
    "##### Gomolemo Walaza\n",
    "##### Hope Mnguni 202203558 \n",
    "##### Gift Nemakonde - 202304063\n",
    "##### Keotshepile Modise 202321837"
   ]
  },
  {
   "cell_type": "code",
   "execution_count": 1,
   "id": "c8dc3bf5-3e33-42a3-b249-a0cdd76684f9",
   "metadata": {},
   "outputs": [],
   "source": [
    "#Importing libraries we will use\n",
    "import pandas as pd\n",
    "import numpy as np\n",
    "import matplotlib.pyplot as plt \n",
    "import seaborn as sns"
   ]
  },
  {
   "cell_type": "code",
   "execution_count": 2,
   "id": "e2b03254-a033-4552-818a-c19cc8d98845",
   "metadata": {},
   "outputs": [],
   "source": [
    "#Loading the data\n",
    "\n",
    "ict = pd.read_csv(\"data/gci_ICT.csv\")\n",
    "cyb = pd.read_csv(\"data/gci_Cybersecurity.csv\")"
   ]
  },
  {
   "cell_type": "code",
   "execution_count": 3,
   "id": "feb4473e-de6f-470e-b25e-1828b03d8c74",
   "metadata": {},
   "outputs": [],
   "source": [
    "#Filter to South Africa \n",
    "ict_sa = ict[ict[\"REF_AREA\"] == \"ZAF\"].copy()\n",
    "cyb_sa = cyb[cyb[\"REF_AREA\"] == \"ZAF\"].copy()"
   ]
  },
  {
   "cell_type": "code",
   "execution_count": 4,
   "id": "89dfc8f9-6e88-456d-985e-2dc45c6690fd",
   "metadata": {},
   "outputs": [],
   "source": [
    "#Making the data make sense by using melt function we want to have \"Year\" as a column and \"Value as a column \n",
    "\n",
    "# 3. Reshape wide → long (melt years into rows)\n",
    "ict_years = [c for c in ict_sa.columns if c.isdigit()]\n",
    "cyb_years = [c for c in cyb_sa.columns if c.isdigit()]\n",
    "\n",
    "ict_long = ict_sa.melt(\n",
    "    id_vars=[\"REF_AREA\",\"REF_AREA_LABEL\",\"INDICATOR\",\"INDICATOR_LABEL\"],\n",
    "    value_vars=ict_years,\n",
    "    var_name=\"Year\",\n",
    "    value_name=\"Value\"\n",
    ")\n",
    "\n",
    "cyb_long = cyb_sa.melt(\n",
    "    id_vars=[\"REF_AREA\",\"REF_AREA_LABEL\",\"INDICATOR\",\"INDICATOR_LABEL\"],\n",
    "    value_vars=cyb_years,\n",
    "    var_name=\"Year\",\n",
    "    value_name=\"Value\"\n",
    ")"
   ]
  },
  {
   "cell_type": "code",
   "execution_count": 5,
   "id": "630a3b7d-94e1-44f6-90e5-35e3de9d80e8",
   "metadata": {},
   "outputs": [],
   "source": [
    "# 4. Cleaning the datatypes\n",
    "ict_long[\"Year\"] = pd.to_numeric(ict_long[\"Year\"], errors=\"coerce\")\n",
    "cyb_long[\"Year\"] = pd.to_numeric(cyb_long[\"Year\"], errors=\"coerce\")\n",
    "\n",
    "ict_long[\"Value\"] = pd.to_numeric(ict_long[\"Value\"], errors=\"coerce\")\n",
    "cyb_long[\"Value\"] = pd.to_numeric(cyb_long[\"Value\"], errors=\"coerce\")"
   ]
  },
  {
   "cell_type": "code",
   "execution_count": 7,
   "id": "6247eb9b-489f-4ae0-b178-f4115cea2ccc",
   "metadata": {},
   "outputs": [],
   "source": [
    "# Handle missing (fill gaps forward/backward within indicator)\n",
    "ict_long[\"Value\"] = (\n",
    "    ict_long.groupby(\"INDICATOR_LABEL\")[\"Value\"]\n",
    "    .transform(lambda s: s.ffill().bfill())\n",
    ")\n",
    "\n",
    "cyb_long[\"Value\"] = (\n",
    "    cyb_long.groupby(\"INDICATOR_LABEL\")[\"Value\"]\n",
    "    .transform(lambda s: s.ffill().bfill())\n",
    ")\n"
   ]
  },
  {
   "cell_type": "code",
   "execution_count": 10,
   "id": "d3897e88-2c5d-4269-9dda-95394dddbe37",
   "metadata": {},
   "outputs": [
    {
     "data": {
      "text/plain": [
       "REF_AREA           0\n",
       "REF_AREA_LABEL     0\n",
       "INDICATOR          0\n",
       "INDICATOR_LABEL    0\n",
       "Year               0\n",
       "Value              0\n",
       "dtype: int64"
      ]
     },
     "execution_count": 10,
     "metadata": {},
     "output_type": "execute_result"
    }
   ],
   "source": [
    "#confirm if missing values have been handled\n",
    "ict_long.isna().sum()"
   ]
  },
  {
   "cell_type": "code",
   "execution_count": 8,
   "id": "e3fd54e3-dd76-4b6d-b94a-c2dbeab0b87d",
   "metadata": {},
   "outputs": [],
   "source": [
    "# 6. Descriptive stats\n",
    "ict_stats = ict_long.groupby([\"INDICATOR_LABEL\",\"Year\"])[\"Value\"].describe().reset_index()\n",
    "cyb_stats = cyb_long.groupby([\"INDICATOR_LABEL\",\"Year\"])[\"Value\"].describe().reset_index()"
   ]
  },
  {
   "cell_type": "code",
   "execution_count": 11,
   "id": "74699c58-960b-4d51-955d-328a346ee0ed",
   "metadata": {},
   "outputs": [
    {
     "name": "stdout",
     "output_type": "stream",
     "text": [
      "ICT Stats sample:\n",
      "                                      INDICATOR_LABEL  Year  count     mean  \\\n",
      "0  Active mobile-broadband subscriptions per 100 ...  2000    1.0  29.2596   \n",
      "1  Active mobile-broadband subscriptions per 100 ...  2001    1.0  29.2596   \n",
      "2  Active mobile-broadband subscriptions per 100 ...  2002    1.0  29.2596   \n",
      "3  Active mobile-broadband subscriptions per 100 ...  2003    1.0  29.2596   \n",
      "4  Active mobile-broadband subscriptions per 100 ...  2004    1.0  29.2596   \n",
      "5  Active mobile-broadband subscriptions per 100 ...  2005    1.0  29.2596   \n",
      "6  Active mobile-broadband subscriptions per 100 ...  2006    1.0  29.2596   \n",
      "7  Active mobile-broadband subscriptions per 100 ...  2007    1.0  29.2596   \n",
      "8  Active mobile-broadband subscriptions per 100 ...  2008    1.0  29.2596   \n",
      "9  Active mobile-broadband subscriptions per 100 ...  2009    1.0  29.2596   \n",
      "\n",
      "   std      min      25%      50%      75%      max  \n",
      "0  NaN  29.2596  29.2596  29.2596  29.2596  29.2596  \n",
      "1  NaN  29.2596  29.2596  29.2596  29.2596  29.2596  \n",
      "2  NaN  29.2596  29.2596  29.2596  29.2596  29.2596  \n",
      "3  NaN  29.2596  29.2596  29.2596  29.2596  29.2596  \n",
      "4  NaN  29.2596  29.2596  29.2596  29.2596  29.2596  \n",
      "5  NaN  29.2596  29.2596  29.2596  29.2596  29.2596  \n",
      "6  NaN  29.2596  29.2596  29.2596  29.2596  29.2596  \n",
      "7  NaN  29.2596  29.2596  29.2596  29.2596  29.2596  \n",
      "8  NaN  29.2596  29.2596  29.2596  29.2596  29.2596  \n",
      "9  NaN  29.2596  29.2596  29.2596  29.2596  29.2596  \n"
     ]
    }
   ],
   "source": [
    "print(\"ICT Stats sample:\\n\", ict_stats.head(10))"
   ]
  },
  {
   "cell_type": "markdown",
   "id": "6f618564-7333-486d-ba93-b1f207057057",
   "metadata": {},
   "source": [
    "#### Descriptive Statistics Summary\n",
    "ICT Stats (2000–2009)\n",
    "\n",
    "Indicator: Active mobile-broadband subscriptions per 100 inhabitants\n",
    "\n",
    "Observations: 10 years (2000–2009)\n",
    "\n",
    "Mean: 29.26 subscriptions per 100 people\n",
    "\n",
    "Std (Standard Deviation): NaN → No variation in data (all years have same value)\n",
    "\n",
    "Min / Max / Quartiles: All 29.26\n",
    "\n",
    "#### Interpretation:\n",
    "\n",
    "Mobile-broadband penetration was static during this period (data shows no change).\n",
    "\n",
    "Could indicate early-stage ICT adoption or limited reporting variations."
   ]
  },
  {
   "cell_type": "code",
   "execution_count": 12,
   "id": "73c736fd-88f9-40d0-a4a1-004d6201910b",
   "metadata": {},
   "outputs": [
    {
     "name": "stdout",
     "output_type": "stream",
     "text": [
      "\n",
      "Cybersecurity Stats sample:\n",
      "                                      INDICATOR_LABEL  Year  count       mean  \\\n",
      "0  Bilateral agreements on cybersecurity cooperat...  2020    1.0   1.000000   \n",
      "1  Bilateral agreements on cybersecurity cooperat...  2024    1.0   1.000000   \n",
      "2         Capacity Development Score - CDS (ITU GCI)  2020    1.0  15.368033   \n",
      "3         Capacity Development Score - CDS (ITU GCI)  2024    1.0  12.831478   \n",
      "4            Child Online Protection - TS4 (ITU GCI)  2020    1.0   0.500000   \n",
      "5            Child Online Protection - TS4 (ITU GCI)  2024    1.0   0.500000   \n",
      "6                   Cooperative Score - CS (ITU GCI)  2020    1.0  17.932716   \n",
      "7                   Cooperative Score - CS (ITU GCI)  2024    1.0  20.000000   \n",
      "8              Cybercrime Regulation - LS2 (ITU GCI)  2020    1.0   0.859238   \n",
      "9              Cybercrime Regulation - LS2 (ITU GCI)  2024    1.0   1.000000   \n",
      "\n",
      "   std        min        25%        50%        75%        max  \n",
      "0  NaN   1.000000   1.000000   1.000000   1.000000   1.000000  \n",
      "1  NaN   1.000000   1.000000   1.000000   1.000000   1.000000  \n",
      "2  NaN  15.368033  15.368033  15.368033  15.368033  15.368033  \n",
      "3  NaN  12.831478  12.831478  12.831478  12.831478  12.831478  \n",
      "4  NaN   0.500000   0.500000   0.500000   0.500000   0.500000  \n",
      "5  NaN   0.500000   0.500000   0.500000   0.500000   0.500000  \n",
      "6  NaN  17.932716  17.932716  17.932716  17.932716  17.932716  \n",
      "7  NaN  20.000000  20.000000  20.000000  20.000000  20.000000  \n",
      "8  NaN   0.859238   0.859238   0.859238   0.859238   0.859238  \n",
      "9  NaN   1.000000   1.000000   1.000000   1.000000   1.000000  \n"
     ]
    }
   ],
   "source": [
    "print(\"\\nCybersecurity Stats sample:\\n\", cyb_stats.head(10))"
   ]
  },
  {
   "cell_type": "markdown",
   "id": "8392ad5c-327e-484d-bd70-171d67048fe8",
   "metadata": {},
   "source": [
    "#### Cybersecurity Stats (2020 & 2024)\n",
    "\n",
    "Indicators: Various GCI measures including bilateral agreements, capacity development, child online protection, cooperation score, cybercrime regulations.\n",
    "\n",
    "Observations: 10 data points (5 indicators × 2 years)\n",
    "\n",
    "Trends:\n",
    "\n",
    "Some indicators improved (e.g., Cooperative Score: 17.93 → 20; Cybercrime Regulation: 0.86 → 1)\n",
    "\n",
    "Some indicators remained constant (e.g., Child Online Protection: 0.5 → 0.5)\n",
    "\n",
    "Some decreased (Capacity Development Score: 15.37 → 12.83)\n",
    "\n",
    "#### Interpretation:\n",
    "\n",
    "Overall, GCI shows mixed progress: legal/regulatory measures are improving, but capacity development is slightly declining.\n",
    "\n",
    "Suggests South Africa is strengthening frameworks but may lag in technical or human capacity development."
   ]
  },
  {
   "cell_type": "code",
   "execution_count": null,
   "id": "56097df7-8bd8-4824-b2d8-dbf773a596d3",
   "metadata": {},
   "outputs": [],
   "source": []
  }
 ],
 "metadata": {
  "kernelspec": {
   "display_name": "Python 3 (ipykernel)",
   "language": "python",
   "name": "python3"
  },
  "language_info": {
   "codemirror_mode": {
    "name": "ipython",
    "version": 3
   },
   "file_extension": ".py",
   "mimetype": "text/x-python",
   "name": "python",
   "nbconvert_exporter": "python",
   "pygments_lexer": "ipython3",
   "version": "3.13.5"
  }
 },
 "nbformat": 4,
 "nbformat_minor": 5
}
